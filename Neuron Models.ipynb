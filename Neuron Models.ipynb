{
 "metadata": {
  "name": ""
 },
 "nbformat": 3,
 "nbformat_minor": 0,
 "worksheets": [
  {
   "cells": [
    {
     "cell_type": "code",
     "collapsed": false,
     "input": [
      "import numpy as np"
     ],
     "language": "python",
     "metadata": {},
     "outputs": [],
     "prompt_number": 2
    },
    {
     "cell_type": "code",
     "collapsed": false,
     "input": [
      "class Pool(object):\n",
      "    def __init__(self, n_neurons, dt):\n",
      "        self.n_neurons = n_neurons\n",
      "        self.dt = dt\n",
      "        \n",
      "    def tuning_curve(self, J_min=-2, J_max=10, bias=0, T=1):\n",
      "        # compute tuning curve by feeding in a fixed current to\n",
      "        #  each neuron (between J_min and J_max) for T seconds\n",
      "        #  and returning the firing rate in Hz\n",
      "        J = np.linspace(J_min, J_max, pool.n_neurons) + bias\n",
      "        data = []\n",
      "        for i in range(int(T/pool.dt)):\n",
      "            data.append(pool.step(J))\n",
      "\n",
      "        tuning = np.sum(data, axis=0)/T\n",
      "        return J, tuning\n",
      "    \n",
      "    def step(self, J):\n",
      "        raise NotImplementedError()"
     ],
     "language": "python",
     "metadata": {},
     "outputs": [],
     "prompt_number": 46
    },
    {
     "cell_type": "code",
     "collapsed": false,
     "input": [
      "# LIF with no refractory period\n",
      "\n",
      "class LIFMinimal(Pool):\n",
      "    def __init__(self, n_neurons, dt=0.001, tau_rc=0.02):\n",
      "        super(LIFMinimal, self).__init__(n_neurons=n_neurons, dt=dt)\n",
      "        self.voltage = np.zeros(n_neurons)\n",
      "        self.tau_rc = tau_rc\n",
      "        \n",
      "    def step(self, J):\n",
      "        dv = (self.dt / self.tau_rc) * (J - self.voltage)\n",
      "        self.voltage += dv\n",
      "\n",
      "        self.voltage[self.voltage < 0] = 0\n",
      "\n",
      "        spiked = self.voltage > 1\n",
      "\n",
      "        self.voltage[spiked > 0] -= 1\n",
      "\n",
      "        return spiked        "
     ],
     "language": "python",
     "metadata": {},
     "outputs": [],
     "prompt_number": 47
    },
    {
     "cell_type": "code",
     "collapsed": false,
     "input": [
      "pool = LIFMinimal(n_neurons=100, tau_rc=0.016)\n",
      "J, tuning = pool.tuning_curve()\n",
      "plot(J, tuning)\n",
      "show()"
     ],
     "language": "python",
     "metadata": {},
     "outputs": [
      {
       "metadata": {},
       "output_type": "display_data",
       "png": "[encoded data removed]",
       "text": [
        "<matplotlib.figure.Figure at 0x46518d0>"
       ]
      }
     ],
     "prompt_number": 48
    },
    {
     "cell_type": "code",
     "collapsed": false,
     "input": [
      "# try this with a high tau_rc\n",
      "pool = LIFMinimal(n_neurons=100, tau_rc=0.512)\n",
      "J, tuning = pool.tuning_curve(J_max=100) # increase maximum range so the neuron fires at a reasonable rate\n",
      "plot(J, tuning)\n",
      "show()"
     ],
     "language": "python",
     "metadata": {},
     "outputs": [
      {
       "metadata": {},
       "output_type": "display_data",
       "png": "[encoded data removed]",
       "text": [
        "<matplotlib.figure.Figure at 0x496a490>"
       ]
      }
     ],
     "prompt_number": 49
    },
    {
     "cell_type": "code",
     "collapsed": false,
     "input": [
      "# the standard neuron model from Nengo 2.0\n",
      "\n",
      "class LIFStandard(Pool):\n",
      "    def __init__(self, n_neurons, dt=0.001, tau_rc=0.02, tau_ref=0.002):\n",
      "        super(LIFStandard, self).__init__(n_neurons=n_neurons, dt=dt)\n",
      "        self.voltage = np.zeros(n_neurons)\n",
      "        self.refractory_time = np.zeros(n_neurons)\n",
      "        self.tau_rc = tau_rc\n",
      "        self.tau_ref = tau_ref\n",
      "        \n",
      "    def step(self, J):\n",
      "        dv = (self.dt / self.tau_rc) * (J - self.voltage)\n",
      "        self.voltage += dv\n",
      "\n",
      "        self.voltage[self.voltage < 0] = 0\n",
      "\n",
      "        self.refractory_time -= self.dt\n",
      "\n",
      "        self.voltage *= (1-self.refractory_time / self.dt).clip(0, 1)\n",
      "\n",
      "        spiked = self.voltage > 1\n",
      "\n",
      "        overshoot = (self.voltage[spiked > 0] - 1) / dv[spiked > 0]\n",
      "        spiketime = self.dt * (1 - overshoot)\n",
      "\n",
      "        self.voltage[spiked > 0] = 0\n",
      "        self.refractory_time[spiked > 0] = self.tau_ref + spiketime\n",
      "\n",
      "        return spiked"
     ],
     "language": "python",
     "metadata": {},
     "outputs": [],
     "prompt_number": 50
    },
    {
     "cell_type": "code",
     "collapsed": false,
     "input": [
      "pool = LIFStandard(n_neurons=100, tau_rc=0.016, tau_ref=0.002)\n",
      "J, tuning = pool.tuning_curve()\n",
      "plot(J, tuning)\n",
      "show()"
     ],
     "language": "python",
     "metadata": {},
     "outputs": [
      {
       "metadata": {},
       "output_type": "display_data",
       "png": "[encoded data removed]",
       "text": [
        "<matplotlib.figure.Figure at 0x3a442d0>"
       ]
      }
     ],
     "prompt_number": 51
    },
    {
     "cell_type": "code",
     "collapsed": false,
     "input": [
      "# LIF Fixed point implementation \n",
      "#  based on version for SpiNNaker, but with modifications to change multiplies into shifts\n",
      "\n",
      "class LIFFixed(Pool):\n",
      "    def __init__(self, n_neurons, bits=16, dt=0.001,\n",
      "                                  tau_rc=0.02, tau_ref=0.002):\n",
      "        super(LIFFixed, self).__init__(n_neurons, dt)\n",
      "\n",
      "        self.voltage = np.zeros(n_neurons, dtype='i32')\n",
      "        \n",
      "        # compute a mask for the voltage so we only use self.bits number of bits\n",
      "        self.bits = bits\n",
      "        if bits >= 16:\n",
      "            self.voltage_bit_mask = 0xFFFF\n",
      "        else:\n",
      "            self.voltage_bit_mask = 0xFFFF - ((1 << (16-bits))-1)\n",
      "        \n",
      "        # determine how much shifting is needed to multiply\n",
      "        #  by tau_rc/dt\n",
      "        self.rc_shift = 0\n",
      "        while (1 << self.rc_shift) * dt < tau_rc:\n",
      "            self.rc_shift += 1\n",
      "            \n",
      "        # number of time steps for refractory period    \n",
      "        self.ref_steps = int(tau_ref / dt)\n",
      "        \n",
      "        # used for adjusting refractory period to do spike time interpolation\n",
      "        self.lfsr = 1\n",
      "        \n",
      "        self.refractory_time = np.zeros(n_neurons, dtype='u8')\n",
      "\n",
      "    def step(self, J):\n",
      "        J = np.asarray(J * 0x10000, dtype='i32')\n",
      "        dv = (J - self.voltage) >> self.rc_shift\n",
      "        dv[self.refractory_time > 0] = 0\n",
      "        self.refractory_time[self.refractory_time > 0] -= 1\n",
      "        self.voltage += dv\n",
      "        self.voltage[self.voltage < 0] = 0\n",
      "        spiked = self.voltage > 0x10000\n",
      "        self.refractory_time[spiked > 0] = self.ref_steps\n",
      "\n",
      "        # randomly adjust the refractory period to account for overshoot\n",
      "        for i in np.where(spiked > 0)[0]:\n",
      "            p = ((self.voltage[i] - 0x10000) << 16)\n",
      "            if self.lfsr * dv[i] < p:\n",
      "                self.refractory_time[i] -= 1\n",
      "            self.lfsr = (self.lfsr >> 1) ^ (-(self.lfsr & 0x1) & 0xB400)\n",
      "\n",
      "        self.voltage[spiked > 0] = 0\n",
      "        self.voltage &= self.voltage_bit_mask   # limit # of bits stored\n",
      "        return spiked"
     ],
     "language": "python",
     "metadata": {},
     "outputs": [],
     "prompt_number": 52
    },
    {
     "cell_type": "code",
     "collapsed": false,
     "input": [
      "pool = LIFFixed(n_neurons=100, tau_rc=0.016, tau_ref=0.002, bits=6)\n",
      "J, tuning = pool.tuning_curve()\n",
      "plot(J, tuning)\n",
      "show()"
     ],
     "language": "python",
     "metadata": {},
     "outputs": [
      {
       "metadata": {},
       "output_type": "display_data",
       "png": "[encoded data removed]",
       "text": [
        "<matplotlib.figure.Figure at 0x4963950>"
       ]
      }
     ],
     "prompt_number": 53
    },
    {
     "cell_type": "code",
     "collapsed": false,
     "input": [
      "# Minimal version of fixed-point model.  Removes the LFSR and interpolation\n",
      "# by assuming that the input current when the model leaves the refractory period\n",
      "# is the same as the current when it entered the refractory period (since that\n",
      "# lets you just subtract 1 from the voltage above threshold to get the starting\n",
      "# voltage after the final refractory period's time step.\n",
      "#\n",
      "# as a result, the entire model is just adds and shifts\n",
      "\n",
      "class LIFFixedMinimal(Pool):\n",
      "    def __init__(self, n_neurons, bits=16, dt=0.001,\n",
      "                                  tau_rc=0.02, tau_ref=0.002):\n",
      "        super(LIFFixedMinimal, self).__init__(n_neurons, dt)\n",
      "\n",
      "        self.voltage = np.zeros(n_neurons, dtype='i32')\n",
      "        \n",
      "        # compute a mask for the voltage so we only use self.bits number of bits\n",
      "        self.bits = bits\n",
      "        if bits >= 16:\n",
      "            self.voltage_bit_mask = 0xFFFF\n",
      "        else:\n",
      "            self.voltage_bit_mask = 0xFFFF - ((1 << (16-bits))-1)\n",
      "        \n",
      "        # determine how much shifting is needed to multiply\n",
      "        #  by tau_rc/dt\n",
      "        self.rc_shift = 0\n",
      "        while (1 << self.rc_shift) * dt < tau_rc:\n",
      "            self.rc_shift += 1\n",
      "            \n",
      "        # number of time steps for refractory period    \n",
      "        self.ref_steps = int(tau_ref / dt)\n",
      "        \n",
      "        self.refractory_time = np.zeros(n_neurons, dtype='u8')    \n",
      "    \n",
      "    def step(self, J):\n",
      "        J = np.asarray(J * 0x10000, dtype='i32')\n",
      "        dv = (J - self.voltage) >> self.rc_shift\n",
      "        dv[self.refractory_time > 0] = 0\n",
      "        self.refractory_time[self.refractory_time > 0] -= 1\n",
      "        self.voltage += dv\n",
      "        self.voltage[self.voltage < 0] = 0\n",
      "        spiked = self.voltage > 0x10000\n",
      "        self.refractory_time[spiked > 0] = self.ref_steps\n",
      "\n",
      "        # assume that the current at the end of the refractory period is the\n",
      "        #  same as at the start\n",
      "        self.voltage[spiked > 0] -= 0x10000\n",
      "        self.voltage &= self.voltage_bit_mask   # limit # of bits stored\n",
      "        return spiked    \n",
      "    "
     ],
     "language": "python",
     "metadata": {},
     "outputs": [],
     "prompt_number": 62
    },
    {
     "cell_type": "code",
     "collapsed": false,
     "input": [
      "pool = LIFFixedMinimal(n_neurons=100, tau_rc=0.016, tau_ref=0.002, bits=6)\n",
      "J, tuning = pool.tuning_curve()\n",
      "plot(J, tuning)\n",
      "show()"
     ],
     "language": "python",
     "metadata": {},
     "outputs": [
      {
       "metadata": {},
       "output_type": "display_data",
       "png": "[encoded data removed]",
       "text": [
        "<matplotlib.figure.Figure at 0x3c2a7d0>"
       ]
      }
     ],
     "prompt_number": 63
    },
    {
     "cell_type": "code",
     "collapsed": false,
     "input": [],
     "language": "python",
     "metadata": {},
     "outputs": []
    }
   ],
   "metadata": {}
  }
 ]
}